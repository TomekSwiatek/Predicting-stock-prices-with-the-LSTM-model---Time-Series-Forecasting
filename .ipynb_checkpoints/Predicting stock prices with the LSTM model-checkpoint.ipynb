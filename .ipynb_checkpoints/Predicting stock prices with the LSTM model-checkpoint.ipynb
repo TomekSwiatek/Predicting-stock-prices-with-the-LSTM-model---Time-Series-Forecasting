{
 "cells": [
  {
   "cell_type": "markdown",
   "metadata": {},
   "source": [
    "The project concerns Time-Series Forecasting.<br>\n",
    "The aim of the project is to predict the stock price of the selected company using a forecasting LSTM model (Long Short-Term Memory). <br>\n",
    "The NVIDIA stock price was analyzed in the project since 2015.<br>\n",
    "Based on data downloaded from the website finance.yahoo.com.\n",
    "\n",
    "LSTM is an artificial recurrent neural network (RNN) used in deep learning. LSTM has feedback connections and it can process entire sequences of data. LSTM models are able to store information over a period of time."
   ]
  },
  {
   "cell_type": "markdown",
   "metadata": {},
   "source": [
    "### Load library"
   ]
  },
  {
   "cell_type": "code",
   "execution_count": 1,
   "metadata": {},
   "outputs": [],
   "source": [
    "import math\n",
    "import matplotlib.pyplot as plt\n",
    "import keras\n",
    "import pandas as pd\n",
    "import numpy as np\n",
    "from keras.models import Sequential\n",
    "from keras.layers import Dense\n",
    "from keras.layers import LSTM\n",
    "from keras.layers import Dropout\n",
    "from keras.layers import *\n",
    "from sklearn.preprocessing import MinMaxScaler\n",
    "from sklearn.metrics import mean_squared_error\n",
    "from sklearn.metrics import mean_absolute_error\n",
    "from sklearn.model_selection import train_test_split\n",
    "from keras.callbacks import EarlyStopping\n"
   ]
  },
  {
   "cell_type": "markdown",
   "metadata": {},
   "source": [
    "### Upload data"
   ]
  },
  {
   "cell_type": "code",
   "execution_count": 2,
   "metadata": {},
   "outputs": [
    {
     "data": {
      "text/html": [
       "<div>\n",
       "<style scoped>\n",
       "    .dataframe tbody tr th:only-of-type {\n",
       "        vertical-align: middle;\n",
       "    }\n",
       "\n",
       "    .dataframe tbody tr th {\n",
       "        vertical-align: top;\n",
       "    }\n",
       "\n",
       "    .dataframe thead th {\n",
       "        text-align: right;\n",
       "    }\n",
       "</style>\n",
       "<table border=\"1\" class=\"dataframe\">\n",
       "  <thead>\n",
       "    <tr style=\"text-align: right;\">\n",
       "      <th></th>\n",
       "      <th>Date</th>\n",
       "      <th>Open</th>\n",
       "      <th>High</th>\n",
       "      <th>Low</th>\n",
       "      <th>Close</th>\n",
       "      <th>Adj Close</th>\n",
       "      <th>Volume</th>\n",
       "    </tr>\n",
       "  </thead>\n",
       "  <tbody>\n",
       "    <tr>\n",
       "      <th>0</th>\n",
       "      <td>2015-01-02</td>\n",
       "      <td>20.129999</td>\n",
       "      <td>20.280001</td>\n",
       "      <td>19.809999</td>\n",
       "      <td>20.129999</td>\n",
       "      <td>19.374790</td>\n",
       "      <td>2842000</td>\n",
       "    </tr>\n",
       "    <tr>\n",
       "      <th>1</th>\n",
       "      <td>2015-01-05</td>\n",
       "      <td>20.129999</td>\n",
       "      <td>20.190001</td>\n",
       "      <td>19.700001</td>\n",
       "      <td>19.790001</td>\n",
       "      <td>19.047548</td>\n",
       "      <td>4948800</td>\n",
       "    </tr>\n",
       "    <tr>\n",
       "      <th>2</th>\n",
       "      <td>2015-01-06</td>\n",
       "      <td>19.820000</td>\n",
       "      <td>19.840000</td>\n",
       "      <td>19.170000</td>\n",
       "      <td>19.190001</td>\n",
       "      <td>18.470057</td>\n",
       "      <td>4944100</td>\n",
       "    </tr>\n",
       "    <tr>\n",
       "      <th>3</th>\n",
       "      <td>2015-01-07</td>\n",
       "      <td>19.330000</td>\n",
       "      <td>19.500000</td>\n",
       "      <td>19.080000</td>\n",
       "      <td>19.139999</td>\n",
       "      <td>18.421932</td>\n",
       "      <td>8045200</td>\n",
       "    </tr>\n",
       "    <tr>\n",
       "      <th>4</th>\n",
       "      <td>2015-01-08</td>\n",
       "      <td>19.360001</td>\n",
       "      <td>19.980000</td>\n",
       "      <td>19.350000</td>\n",
       "      <td>19.860001</td>\n",
       "      <td>19.114916</td>\n",
       "      <td>7094500</td>\n",
       "    </tr>\n",
       "  </tbody>\n",
       "</table>\n",
       "</div>"
      ],
      "text/plain": [
       "         Date       Open       High        Low      Close  Adj Close   Volume\n",
       "0  2015-01-02  20.129999  20.280001  19.809999  20.129999  19.374790  2842000\n",
       "1  2015-01-05  20.129999  20.190001  19.700001  19.790001  19.047548  4948800\n",
       "2  2015-01-06  19.820000  19.840000  19.170000  19.190001  18.470057  4944100\n",
       "3  2015-01-07  19.330000  19.500000  19.080000  19.139999  18.421932  8045200\n",
       "4  2015-01-08  19.360001  19.980000  19.350000  19.860001  19.114916  7094500"
      ]
     },
     "execution_count": 2,
     "metadata": {},
     "output_type": "execute_result"
    }
   ],
   "source": [
    "df = pd.read_csv(\"NVDA.csv\")\n",
    "df.head(5)"
   ]
  },
  {
   "cell_type": "markdown",
   "metadata": {},
   "source": [
    "### Initial data analysis"
   ]
  },
  {
   "cell_type": "code",
   "execution_count": 3,
   "metadata": {},
   "outputs": [
    {
     "name": "stdout",
     "output_type": "stream",
     "text": [
      "<class 'pandas.core.frame.DataFrame'>\n",
      "RangeIndex: 1583 entries, 0 to 1582\n",
      "Data columns (total 7 columns):\n",
      " #   Column     Non-Null Count  Dtype  \n",
      "---  ------     --------------  -----  \n",
      " 0   Date       1583 non-null   object \n",
      " 1   Open       1583 non-null   float64\n",
      " 2   High       1583 non-null   float64\n",
      " 3   Low        1583 non-null   float64\n",
      " 4   Close      1583 non-null   float64\n",
      " 5   Adj Close  1583 non-null   float64\n",
      " 6   Volume     1583 non-null   int64  \n",
      "dtypes: float64(5), int64(1), object(1)\n",
      "memory usage: 86.7+ KB\n"
     ]
    }
   ],
   "source": [
    "#Type of atrributes and data volume\n",
    "df.info()"
   ]
  },
  {
   "cell_type": "code",
   "execution_count": 4,
   "metadata": {},
   "outputs": [
    {
     "data": {
      "text/plain": [
       "Date         0\n",
       "Open         0\n",
       "High         0\n",
       "Low          0\n",
       "Close        0\n",
       "Adj Close    0\n",
       "Volume       0\n",
       "dtype: int64"
      ]
     },
     "execution_count": 4,
     "metadata": {},
     "output_type": "execute_result"
    }
   ],
   "source": [
    "#Check data NaN\n",
    "df.isnull().sum()"
   ]
  },
  {
   "cell_type": "code",
   "execution_count": 5,
   "metadata": {},
   "outputs": [
    {
     "data": {
      "text/plain": [
       "Date         1583\n",
       "Open         1583\n",
       "High         1583\n",
       "Low          1583\n",
       "Close        1583\n",
       "Adj Close    1583\n",
       "Volume       1583\n",
       "dtype: int64"
      ]
     },
     "execution_count": 5,
     "metadata": {},
     "output_type": "execute_result"
    }
   ],
   "source": [
    "df.notnull().sum()"
   ]
  },
  {
   "cell_type": "code",
   "execution_count": 6,
   "metadata": {},
   "outputs": [
    {
     "data": {
      "text/plain": [
       "0"
      ]
     },
     "execution_count": 6,
     "metadata": {},
     "output_type": "execute_result"
    }
   ],
   "source": [
    "#Check duplicates\n",
    "df.duplicated().sum()"
   ]
  },
  {
   "cell_type": "code",
   "execution_count": 7,
   "metadata": {},
   "outputs": [
    {
     "data": {
      "text/html": [
       "<div>\n",
       "<style scoped>\n",
       "    .dataframe tbody tr th:only-of-type {\n",
       "        vertical-align: middle;\n",
       "    }\n",
       "\n",
       "    .dataframe tbody tr th {\n",
       "        vertical-align: top;\n",
       "    }\n",
       "\n",
       "    .dataframe thead th {\n",
       "        text-align: right;\n",
       "    }\n",
       "</style>\n",
       "<table border=\"1\" class=\"dataframe\">\n",
       "  <thead>\n",
       "    <tr style=\"text-align: right;\">\n",
       "      <th></th>\n",
       "      <th>Open</th>\n",
       "      <th>High</th>\n",
       "      <th>Low</th>\n",
       "      <th>Close</th>\n",
       "      <th>Adj Close</th>\n",
       "      <th>Volume</th>\n",
       "    </tr>\n",
       "  </thead>\n",
       "  <tbody>\n",
       "    <tr>\n",
       "      <th>count</th>\n",
       "      <td>1583.000000</td>\n",
       "      <td>1583.000000</td>\n",
       "      <td>1583.000000</td>\n",
       "      <td>1583.000000</td>\n",
       "      <td>1583.000000</td>\n",
       "      <td>1.583000e+03</td>\n",
       "    </tr>\n",
       "    <tr>\n",
       "      <th>mean</th>\n",
       "      <td>188.771927</td>\n",
       "      <td>191.773386</td>\n",
       "      <td>185.518111</td>\n",
       "      <td>188.783323</td>\n",
       "      <td>187.913193</td>\n",
       "      <td>1.201784e+07</td>\n",
       "    </tr>\n",
       "    <tr>\n",
       "      <th>std</th>\n",
       "      <td>152.840415</td>\n",
       "      <td>155.290531</td>\n",
       "      <td>150.006767</td>\n",
       "      <td>152.758800</td>\n",
       "      <td>152.919462</td>\n",
       "      <td>7.239125e+06</td>\n",
       "    </tr>\n",
       "    <tr>\n",
       "      <th>min</th>\n",
       "      <td>19.250000</td>\n",
       "      <td>19.500000</td>\n",
       "      <td>18.940001</td>\n",
       "      <td>19.139999</td>\n",
       "      <td>18.421932</td>\n",
       "      <td>1.311200e+06</td>\n",
       "    </tr>\n",
       "    <tr>\n",
       "      <th>25%</th>\n",
       "      <td>56.289999</td>\n",
       "      <td>56.974998</td>\n",
       "      <td>55.690000</td>\n",
       "      <td>56.185000</td>\n",
       "      <td>55.317606</td>\n",
       "      <td>7.461150e+06</td>\n",
       "    </tr>\n",
       "    <tr>\n",
       "      <th>50%</th>\n",
       "      <td>166.169998</td>\n",
       "      <td>168.169998</td>\n",
       "      <td>163.580002</td>\n",
       "      <td>165.559998</td>\n",
       "      <td>164.319916</td>\n",
       "      <td>1.006880e+07</td>\n",
       "    </tr>\n",
       "    <tr>\n",
       "      <th>75%</th>\n",
       "      <td>247.769996</td>\n",
       "      <td>250.750000</td>\n",
       "      <td>243.819999</td>\n",
       "      <td>247.430001</td>\n",
       "      <td>245.807083</td>\n",
       "      <td>1.455370e+07</td>\n",
       "    </tr>\n",
       "    <tr>\n",
       "      <th>max</th>\n",
       "      <td>642.119995</td>\n",
       "      <td>648.570007</td>\n",
       "      <td>634.609985</td>\n",
       "      <td>645.489990</td>\n",
       "      <td>645.489990</td>\n",
       "      <td>9.232320e+07</td>\n",
       "    </tr>\n",
       "  </tbody>\n",
       "</table>\n",
       "</div>"
      ],
      "text/plain": [
       "              Open         High          Low        Close    Adj Close  \\\n",
       "count  1583.000000  1583.000000  1583.000000  1583.000000  1583.000000   \n",
       "mean    188.771927   191.773386   185.518111   188.783323   187.913193   \n",
       "std     152.840415   155.290531   150.006767   152.758800   152.919462   \n",
       "min      19.250000    19.500000    18.940001    19.139999    18.421932   \n",
       "25%      56.289999    56.974998    55.690000    56.185000    55.317606   \n",
       "50%     166.169998   168.169998   163.580002   165.559998   164.319916   \n",
       "75%     247.769996   250.750000   243.819999   247.430001   245.807083   \n",
       "max     642.119995   648.570007   634.609985   645.489990   645.489990   \n",
       "\n",
       "             Volume  \n",
       "count  1.583000e+03  \n",
       "mean   1.201784e+07  \n",
       "std    7.239125e+06  \n",
       "min    1.311200e+06  \n",
       "25%    7.461150e+06  \n",
       "50%    1.006880e+07  \n",
       "75%    1.455370e+07  \n",
       "max    9.232320e+07  "
      ]
     },
     "execution_count": 7,
     "metadata": {},
     "output_type": "execute_result"
    }
   ],
   "source": [
    "#Statistical indicators\n",
    "df.describe()"
   ]
  },
  {
   "cell_type": "markdown",
   "metadata": {},
   "source": [
    "### Plot the stock price"
   ]
  },
  {
   "cell_type": "code",
   "execution_count": 8,
   "metadata": {},
   "outputs": [
    {
     "data": {
      "image/png": "[encoded data removed]",
      "text/plain": [
       "<Figure size 1440x720 with 1 Axes>"
      ]
     },
     "metadata": {
      "needs_background": "light"
     },
     "output_type": "display_data"
    }
   ],
   "source": [
    "plt.figure(figsize=(20, 10))\n",
    "plt.plot(df[\"Date\"], df[\"Close\"])\n",
    "plt.xticks(np.arange(0, 1583, 150), df['Date'][0:1583:150])\n",
    "plt.title(\"Stock price\")\n",
    "plt.xlabel(\"Time\")\n",
    "plt.ylabel(\"Price\")\n",
    "plt.show()"
   ]
  },
  {
   "cell_type": "markdown",
   "metadata": {},
   "source": [
    "### Division of the set into train and test"
   ]
  },
  {
   "cell_type": "markdown",
   "metadata": {},
   "source": [
    "Selecting the **Close** price value "
   ]
  },
  {
   "cell_type": "code",
   "execution_count": 9,
   "metadata": {},
   "outputs": [],
   "source": [
    "train_data, test_data = df.iloc[0:int(len(df)*0.7), 4:5].values, df.iloc[int(len(df)*0.7):, 4:5].values"
   ]
  },
  {
   "cell_type": "markdown",
   "metadata": {},
   "source": [
    "### Feature Scaling"
   ]
  },
  {
   "cell_type": "code",
   "execution_count": 10,
   "metadata": {},
   "outputs": [],
   "source": [
    "sc = MinMaxScaler(feature_range = (0, 1))\n",
    "train_set_scaled = sc.fit_transform(train_data)\n"
   ]
  },
  {
   "cell_type": "markdown",
   "metadata": {},
   "source": [
    "### Data structure with 60 time-steps and 1 output"
   ]
  },
  {
   "cell_type": "code",
   "execution_count": 11,
   "metadata": {},
   "outputs": [],
   "source": [
    "#lag of 1 day (lag 1)\n",
    "\n",
    "X_train = []\n",
    "y_train = []\n",
    "l=len(train_set_scaled)\n",
    "\n",
    "for i in range(60, l):\n",
    "    X_train.append(train_set_scaled[i-60:i, 0])\n",
    "    y_train.append(train_set_scaled[i, 0]);\n",
    "    \n",
    "X_train, y_train = np.array(X_train), np.array(y_train);\n",
    "X_train = np.reshape(X_train, (X_train.shape[0], X_train.shape[1], 1));\n"
   ]
  },
  {
   "cell_type": "markdown",
   "metadata": {},
   "source": [
    "### Build the model"
   ]
  },
  {
   "cell_type": "code",
   "execution_count": 12,
   "metadata": {},
   "outputs": [
    {
     "name": "stdout",
     "output_type": "stream",
     "text": [
      "Epoch 1/100\n",
      "33/33 [==============================] - 7s 53ms/step - loss: 0.0696\n",
      "Epoch 2/100\n",
      "33/33 [==============================] - 2s 52ms/step - loss: 0.0067\n",
      "Epoch 3/100\n",
      "33/33 [==============================] - 2s 59ms/step - loss: 0.0058\n",
      "Epoch 4/100\n",
      "33/33 [==============================] - 2s 58ms/step - loss: 0.0042\n",
      "Epoch 5/100\n",
      "33/33 [==============================] - 2s 61ms/step - loss: 0.0045\n",
      "Epoch 6/100\n",
      "33/33 [==============================] - 2s 57ms/step - loss: 0.0043\n",
      "Epoch 7/100\n",
      "33/33 [==============================] - 2s 58ms/step - loss: 0.0053\n",
      "Epoch 8/100\n",
      "33/33 [==============================] - 2s 61ms/step - loss: 0.0043\n",
      "Epoch 9/100\n",
      "33/33 [==============================] - 2s 59ms/step - loss: 0.0042\n",
      "Epoch 10/100\n",
      "33/33 [==============================] - 2s 60ms/step - loss: 0.0049\n",
      "Epoch 11/100\n",
      "33/33 [==============================] - 2s 62ms/step - loss: 0.0038\n",
      "Epoch 12/100\n",
      "33/33 [==============================] - 2s 61ms/step - loss: 0.0037: 0s - loss: 0.\n",
      "Epoch 13/100\n",
      "33/33 [==============================] - 2s 63ms/step - loss: 0.0032\n",
      "Epoch 14/100\n",
      "33/33 [==============================] - 2s 63ms/step - loss: 0.0042\n",
      "Epoch 15/100\n",
      "33/33 [==============================] - 2s 63ms/step - loss: 0.0031\n",
      "Epoch 16/100\n",
      "33/33 [==============================] - 2s 61ms/step - loss: 0.0032\n",
      "Epoch 17/100\n",
      "33/33 [==============================] - 2s 66ms/step - loss: 0.0028\n",
      "Epoch 18/100\n",
      "33/33 [==============================] - 2s 65ms/step - loss: 0.0030\n",
      "Epoch 19/100\n",
      "33/33 [==============================] - 2s 63ms/step - loss: 0.0033\n",
      "Epoch 20/100\n",
      "33/33 [==============================] - 2s 63ms/step - loss: 0.0030\n",
      "Epoch 21/100\n",
      "33/33 [==============================] - 2s 63ms/step - loss: 0.0035\n",
      "Epoch 22/100\n",
      "33/33 [==============================] - 2s 63ms/step - loss: 0.0029: 0s - loss: 0.\n",
      "Epoch 23/100\n",
      "33/33 [==============================] - 2s 66ms/step - loss: 0.0032\n",
      "Epoch 24/100\n",
      "33/33 [==============================] - 2s 65ms/step - loss: 0.0032\n",
      "Epoch 25/100\n",
      "33/33 [==============================] - 2s 65ms/step - loss: 0.0029\n",
      "Epoch 26/100\n",
      "33/33 [==============================] - 2s 66ms/step - loss: 0.0032\n",
      "Epoch 27/100\n",
      "33/33 [==============================] - 2s 66ms/step - loss: 0.0026\n",
      "Epoch 28/100\n",
      "33/33 [==============================] - 2s 66ms/step - loss: 0.0031\n",
      "Epoch 29/100\n",
      "33/33 [==============================] - 2s 66ms/step - loss: 0.0032\n",
      "Epoch 30/100\n",
      "33/33 [==============================] - 2s 65ms/step - loss: 0.0026\n",
      "Epoch 31/100\n",
      "33/33 [==============================] - 2s 64ms/step - loss: 0.0027\n",
      "Epoch 32/100\n",
      "33/33 [==============================] - 2s 64ms/step - loss: 0.0032\n",
      "Epoch 33/100\n",
      "33/33 [==============================] - 2s 64ms/step - loss: 0.0026\n",
      "Epoch 34/100\n",
      "33/33 [==============================] - 2s 65ms/step - loss: 0.0025\n",
      "Epoch 35/100\n",
      "33/33 [==============================] - 2s 64ms/step - loss: 0.0025\n",
      "Epoch 36/100\n",
      "33/33 [==============================] - 2s 64ms/step - loss: 0.0026\n",
      "Epoch 37/100\n",
      "33/33 [==============================] - 2s 64ms/step - loss: 0.0027\n",
      "Epoch 38/100\n",
      "33/33 [==============================] - 2s 63ms/step - loss: 0.0025\n",
      "Epoch 39/100\n",
      "33/33 [==============================] - 2s 65ms/step - loss: 0.0025\n",
      "Epoch 40/100\n",
      "33/33 [==============================] - 2s 65ms/step - loss: 0.0026\n",
      "Epoch 41/100\n",
      "33/33 [==============================] - 2s 62ms/step - loss: 0.0024\n",
      "Epoch 42/100\n",
      "33/33 [==============================] - 2s 62ms/step - loss: 0.0023\n",
      "Epoch 43/100\n",
      "33/33 [==============================] - 2s 62ms/step - loss: 0.0023\n",
      "Epoch 44/100\n",
      "33/33 [==============================] - 2s 62ms/step - loss: 0.0023\n",
      "Epoch 45/100\n",
      "33/33 [==============================] - 2s 61ms/step - loss: 0.0034\n",
      "Epoch 46/100\n",
      "33/33 [==============================] - 2s 62ms/step - loss: 0.0024\n",
      "Epoch 47/100\n",
      "33/33 [==============================] - 2s 61ms/step - loss: 0.0022\n",
      "Epoch 48/100\n",
      "33/33 [==============================] - 2s 61ms/step - loss: 0.0024\n",
      "Epoch 49/100\n",
      "33/33 [==============================] - 2s 61ms/step - loss: 0.0024: 0s - \n",
      "Epoch 50/100\n",
      "33/33 [==============================] - 2s 62ms/step - loss: 0.0025\n",
      "Epoch 51/100\n",
      "33/33 [==============================] - 2s 65ms/step - loss: 0.0023\n",
      "Epoch 52/100\n",
      "33/33 [==============================] - 2s 65ms/step - loss: 0.0022\n",
      "Epoch 53/100\n",
      "33/33 [==============================] - 2s 63ms/step - loss: 0.0025\n",
      "Epoch 54/100\n",
      "33/33 [==============================] - 2s 67ms/step - loss: 0.0022\n",
      "Epoch 55/100\n",
      "33/33 [==============================] - 2s 64ms/step - loss: 0.0021\n",
      "Epoch 56/100\n",
      "33/33 [==============================] - 2s 64ms/step - loss: 0.0025\n",
      "Epoch 57/100\n",
      "33/33 [==============================] - 2s 65ms/step - loss: 0.0019\n",
      "Epoch 58/100\n",
      "33/33 [==============================] - 2s 62ms/step - loss: 0.0024\n",
      "Epoch 59/100\n",
      "33/33 [==============================] - 2s 62ms/step - loss: 0.0023: 0s - loss: 0.0\n",
      "Epoch 60/100\n",
      "33/33 [==============================] - 2s 62ms/step - loss: 0.0020\n",
      "Epoch 61/100\n",
      "33/33 [==============================] - 2s 62ms/step - loss: 0.0023\n",
      "Epoch 62/100\n",
      "33/33 [==============================] - 2s 62ms/step - loss: 0.0018\n",
      "Epoch 63/100\n",
      "33/33 [==============================] - 2s 62ms/step - loss: 0.0020\n",
      "Epoch 64/100\n",
      "33/33 [==============================] - 2s 62ms/step - loss: 0.0024\n",
      "Epoch 65/100\n",
      "33/33 [==============================] - 2s 62ms/step - loss: 0.0019\n",
      "Epoch 66/100\n",
      "33/33 [==============================] - 2s 62ms/step - loss: 0.0023\n",
      "Epoch 67/100\n",
      "33/33 [==============================] - 2s 61ms/step - loss: 0.0020\n",
      "Epoch 68/100\n",
      "33/33 [==============================] - 2s 62ms/step - loss: 0.0021\n",
      "Epoch 69/100\n",
      "33/33 [==============================] - 2s 62ms/step - loss: 0.0019\n",
      "Epoch 70/100\n",
      "33/33 [==============================] - 2s 64ms/step - loss: 0.0018\n",
      "Epoch 71/100\n",
      "33/33 [==============================] - 2s 62ms/step - loss: 0.0021\n",
      "Epoch 72/100\n",
      "33/33 [==============================] - 2s 65ms/step - loss: 0.0015\n",
      "Epoch 73/100\n",
      "33/33 [==============================] - 2s 64ms/step - loss: 0.0023\n",
      "Epoch 74/100\n",
      "33/33 [==============================] - 2s 66ms/step - loss: 0.0020\n",
      "Epoch 75/100\n",
      "33/33 [==============================] - 2s 63ms/step - loss: 0.0020\n",
      "Epoch 76/100\n",
      "33/33 [==============================] - 2s 63ms/step - loss: 0.0019\n",
      "Epoch 77/100\n",
      "33/33 [==============================] - 2s 62ms/step - loss: 0.0019\n",
      "Epoch 78/100\n",
      "33/33 [==============================] - 2s 64ms/step - loss: 0.0017\n",
      "Epoch 79/100\n",
      "33/33 [==============================] - 2s 62ms/step - loss: 0.0017\n",
      "Epoch 80/100\n",
      "33/33 [==============================] - 2s 63ms/step - loss: 0.0019\n",
      "Epoch 81/100\n",
      "33/33 [==============================] - 2s 68ms/step - loss: 0.0017\n",
      "Epoch 82/100\n",
      "33/33 [==============================] - 2s 72ms/step - loss: 0.0017\n",
      "Epoch 83/100\n",
      "33/33 [==============================] - 2s 68ms/step - loss: 0.0018\n",
      "Epoch 84/100\n",
      "33/33 [==============================] - 2s 65ms/step - loss: 0.0018\n",
      "Epoch 85/100\n",
      "33/33 [==============================] - 2s 63ms/step - loss: 0.0018\n",
      "Epoch 86/100\n",
      "33/33 [==============================] - 2s 63ms/step - loss: 0.0017\n",
      "Epoch 87/100\n",
      "33/33 [==============================] - 2s 64ms/step - loss: 0.0019\n",
      "Epoch 88/100\n",
      "33/33 [==============================] - 2s 65ms/step - loss: 0.0016\n",
      "Epoch 89/100\n",
      "33/33 [==============================] - 2s 67ms/step - loss: 0.0017\n",
      "Epoch 90/100\n",
      "33/33 [==============================] - 2s 63ms/step - loss: 0.0015\n",
      "Epoch 91/100\n",
      "33/33 [==============================] - 2s 63ms/step - loss: 0.0018\n",
      "Epoch 92/100\n",
      "33/33 [==============================] - 2s 62ms/step - loss: 0.0015\n",
      "Epoch 93/100\n",
      "33/33 [==============================] - 2s 62ms/step - loss: 0.0014\n",
      "Epoch 94/100\n",
      "33/33 [==============================] - 2s 64ms/step - loss: 0.0016: 0s - loss:\n",
      "Epoch 95/100\n",
      "33/33 [==============================] - 2s 62ms/step - loss: 0.0015\n",
      "Epoch 96/100\n",
      "33/33 [==============================] - 2s 62ms/step - loss: 0.0014\n",
      "Epoch 97/100\n",
      "33/33 [==============================] - 2s 62ms/step - loss: 0.0019: 1s - - ETA: 0s - los\n",
      "Epoch 98/100\n",
      "33/33 [==============================] - 2s 62ms/step - loss: 0.0018\n",
      "Epoch 99/100\n",
      "33/33 [==============================] - 2s 62ms/step - loss: 0.0016\n"
     ]
    },
    {
     "name": "stdout",
     "output_type": "stream",
     "text": [
      "Epoch 100/100\n",
      "33/33 [==============================] - 2s 62ms/step - loss: 0.0016\n"
     ]
    },
    {
     "data": {
      "text/plain": [
       "<tensorflow.python.keras.callbacks.History at 0x170b13f8820>"
      ]
     },
     "execution_count": 12,
     "metadata": {},
     "output_type": "execute_result"
    }
   ],
   "source": [
    "#Model building\n",
    "\n",
    "#Sequential model API\n",
    "model = Sequential()\n",
    "\n",
    "#1 layer and Dropout regularisation\n",
    "model.add(LSTM(units = 50, return_sequences = True, input_shape = (X_train.shape[1], 1)))\n",
    "model.add(Dropout(0.2))\n",
    "\n",
    "#2 layer and Dropout regularisation\n",
    "model.add(LSTM(units = 50, return_sequences = True))\n",
    "model.add(Dropout(0.2))\n",
    "\n",
    "#3 layer and Dropout regularisation\n",
    "model.add(LSTM(units = 50, return_sequences = True))\n",
    "model.add(Dropout(0.2))\n",
    "\n",
    "#4 layer and Dropout regularisation\n",
    "model.add(LSTM(units = 50))\n",
    "model.add(Dropout(0.2))\n",
    "\n",
    "# Output layer\n",
    "model.add(Dense(units = 1))\n",
    "\n",
    "# Compile the RNN model\n",
    "model.compile(optimizer = 'adam', loss = 'mean_squared_error')\n",
    "\n",
    "# Fitting the model to the Training set\n",
    "model.fit(X_train, y_train, epochs = 100, batch_size = 32)"
   ]
  },
  {
   "cell_type": "markdown",
   "metadata": {},
   "source": [
    "### Prepare test data"
   ]
  },
  {
   "cell_type": "code",
   "execution_count": 16,
   "metadata": {},
   "outputs": [
    {
     "name": "stdout",
     "output_type": "stream",
     "text": [
      "(475, 60, 1)\n"
     ]
    }
   ],
   "source": [
    "data_train, data_test = df.iloc[:int(len(df)*0.7), 1:2], df.iloc[int(len(df)*0.7):, 1:2]\n",
    "\n",
    "data = pd.concat((data_train, data_test), axis = 0)\n",
    "inputs = data[len(data) - len(data_test) - 60:].values\n",
    "inputs = inputs.reshape(-1,1)\n",
    "inputs = sc.transform(inputs)\n",
    "X_test = []\n",
    "\n",
    "for i in range(60, len(inputs)):\n",
    "    X_test.append(inputs[i-60:i, 0]);\n",
    "    \n",
    "X_test = np.array(X_test);\n",
    "X_test = np.reshape(X_test, (X_test.shape[0], X_test.shape[1], 1));\n",
    "\n",
    "print(X_test.shape)\n"
   ]
  },
  {
   "cell_type": "code",
   "execution_count": null,
   "metadata": {},
   "outputs": [],
   "source": []
  }
 ],
 "metadata": {
  "kernelspec": {
   "display_name": "Python 3",
   "language": "python",
   "name": "python3"
  },
  "language_info": {
   "codemirror_mode": {
    "name": "ipython",
    "version": 3
   },
   "file_extension": ".py",
   "mimetype": "text/x-python",
   "name": "python",
   "nbconvert_exporter": "python",
   "pygments_lexer": "ipython3",
   "version": "3.8.3"
  }
 },
 "nbformat": 4,
 "nbformat_minor": 4
}
