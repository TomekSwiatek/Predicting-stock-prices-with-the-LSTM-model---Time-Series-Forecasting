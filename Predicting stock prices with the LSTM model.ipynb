{
 "cells": [
  {
   "cell_type": "markdown",
   "metadata": {},
   "source": [
    "The project concerns Time-Series Forecasting.<br>\n",
    "The aim of the project is to predict the stock price of the selected company using a forecasting LSTM model (Long Short-Term Memory). <br>\n",
    "The NVIDIA stock price was analyzed in the project since 2015.<br>\n",
    "Based on data downloaded from the website finance.yahoo.com.\n",
    "\n",
    "LSTM is an artificial recurrent neural network (RNN) used in deep learning. LSTM has feedback connections and it can process entire sequences of data. LSTM models are able to store information over a period of time."
   ]
  },
  {
   "cell_type": "markdown",
   "metadata": {},
   "source": [
    "### Load library"
   ]
  },
  {
   "cell_type": "code",
   "execution_count": null,
   "metadata": {},
   "outputs": [],
   "source": []
  }
 ],
 "metadata": {
  "kernelspec": {
   "display_name": "Python 3",
   "language": "python",
   "name": "python3"
  },
  "language_info": {
   "codemirror_mode": {
    "name": "ipython",
    "version": 3
   },
   "file_extension": ".py",
   "mimetype": "text/x-python",
   "name": "python",
   "nbconvert_exporter": "python",
   "pygments_lexer": "ipython3",
   "version": "3.8.3"
  }
 },
 "nbformat": 4,
 "nbformat_minor": 4
}
